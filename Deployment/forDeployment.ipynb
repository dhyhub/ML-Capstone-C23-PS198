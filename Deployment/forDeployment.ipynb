{
  "nbformat": 4,
  "nbformat_minor": 0,
  "metadata": {
    "colab": {
      "provenance": []
    },
    "kernelspec": {
      "name": "python3",
      "display_name": "Python 3"
    },
    "language_info": {
      "name": "python"
    }
  },
  "cells": [
    {
      "cell_type": "code",
      "source": [
        "!pip install ultralytics==8.0.9\n",
        "\n",
        "!git clone https://github.com/ultralytics/ultralytics\n",
        "%pip install -qe ultralytics"
      ],
      "metadata": {
        "id": "kboXSJZXcCMg"
      },
      "execution_count": null,
      "outputs": []
    },
    {
      "cell_type": "code",
      "execution_count": null,
      "metadata": {
        "id": "jHlVBSutbutR"
      },
      "outputs": [],
      "source": [
        "from PIL import Image\n",
        "from flask import Flask, request\n",
        "from ultralytics import YOLO"
      ]
    },
    {
      "cell_type": "code",
      "source": [
        "model = YOLO('best (2).pt')"
      ],
      "metadata": {
        "id": "KK5Cy5-Zb4pb"
      },
      "execution_count": null,
      "outputs": []
    },
    {
      "cell_type": "code",
      "source": [
        "results = model.predict(\n",
        "   source='/content/download.jpeg')\n",
        "print(\"Bounding Boxes :\",results[0].boxes.xyxy)\n",
        "print(\"Classes :\",results[0].boxes.cls)"
      ],
      "metadata": {
        "id": "eTdeK4ZKexie"
      },
      "execution_count": null,
      "outputs": []
    },
    {
      "cell_type": "code",
      "source": [
        "model.model.names"
      ],
      "metadata": {
        "colab": {
          "base_uri": "https://localhost:8080/"
        },
        "id": "tna2yMQTfYDl",
        "outputId": "05a87cac-4123-49ce-d280-7ad54a9d9bb8"
      },
      "execution_count": null,
      "outputs": [
        {
          "output_type": "execute_result",
          "data": {
            "text/plain": [
              "{0: '13',\n",
              " 1: '14',\n",
              " 2: '18',\n",
              " 3: '2',\n",
              " 4: '23',\n",
              " 5: '6',\n",
              " 6: 'anggur',\n",
              " 7: 'apel',\n",
              " 8: 'arem',\n",
              " 9: 'ayam',\n",
              " 10: 'bakpia',\n",
              " 11: 'bakso',\n",
              " 12: 'bakwan',\n",
              " 13: 'batagor',\n",
              " 14: 'botol',\n",
              " 15: 'buah',\n",
              " 16: 'bubur',\n",
              " 17: 'burger',\n",
              " 18: 'cakwe',\n",
              " 19: 'capcay',\n",
              " 20: 'crepes',\n",
              " 21: 'cumi',\n",
              " 22: 'cup',\n",
              " 23: 'dendeng',\n",
              " 24: 'donat',\n",
              " 25: 'durian',\n",
              " 26: 'esbuah',\n",
              " 27: 'eskrim',\n",
              " 28: 'fuyunghai',\n",
              " 29: 'gelas',\n",
              " 30: 'gorengan',\n",
              " 31: 'gudeg',\n",
              " 32: 'ikan',\n",
              " 33: 'jagung',\n",
              " 34: 'jajanpasar',\n",
              " 35: 'jeruk',\n",
              " 36: 'kacang',\n",
              " 37: 'kaleng',\n",
              " 38: 'kebab',\n",
              " 39: 'kentang',\n",
              " 40: 'kerang',\n",
              " 41: 'kerupuk',\n",
              " 42: 'ketoprak',\n",
              " 43: 'kue',\n",
              " 44: 'martabak',\n",
              " 45: 'mie',\n",
              " 46: 'muffin',\n",
              " 47: 'nasi',\n",
              " 48: 'nugget',\n",
              " 49: 'onde-onde',\n",
              " 50: 'pempek',\n",
              " 51: 'rambutan',\n",
              " 52: 'rendang',\n",
              " 53: 'sambal',\n",
              " 54: 'sate',\n",
              " 55: 'sayurbayam',\n",
              " 56: 'steak',\n",
              " 57: 'stroberi',\n",
              " 58: 'sup',\n",
              " 59: 'sushi',\n",
              " 60: 'tahu',\n",
              " 61: 'telur',\n",
              " 62: 'tempe',\n",
              " 63: 'tumis',\n",
              " 64: 'udang',\n",
              " 65: 'waffle'}"
            ]
          },
          "metadata": {},
          "execution_count": 7
        }
      ]
    },
    {
      "cell_type": "code",
      "source": [
        "app = Flask(__name__)"
      ],
      "metadata": {
        "id": "agu7k867fd49"
      },
      "execution_count": null,
      "outputs": []
    },
    {
      "cell_type": "code",
      "source": [
        "@app.route(\"/objectdetection/\", methods=[\"POST\"])\n",
        "def predict():\n",
        "    if not request.method == \"POST\":\n",
        "        return\n",
        "\n",
        "    if request.files.get(\"image\"):\n",
        "        image_file = request.files[\"image\"]\n",
        "        return {\"result\": \"ok\"}"
      ],
      "metadata": {
        "id": "xbAZeMMefj4M"
      },
      "execution_count": null,
      "outputs": []
    },
    {
      "cell_type": "code",
      "source": [
        "import io\n",
        "from PIL import Image\n",
        "from flask import Flask, request\n",
        "import nest_asyncio\n",
        "from pyngrok import ngrok\n",
        "\n",
        "app = Flask(__name__)\n",
        "model = YOLO('best (2).pt')\n",
        "\n",
        "@app.route(\"/objectdetection/\", methods=[\"POST\"])\n",
        "def predict():\n",
        "    if not request.method == \"POST\":\n",
        "        return\n",
        "\n",
        "    if request.files.get(\"image\"):\n",
        "        image_file = request.files[\"image\"]\n",
        "        image_bytes = image_file.read()\n",
        "        img = Image.open(io.BytesIO(image_bytes))\n",
        "        results = model(img)\n",
        "        results_json = {\"boxes\":results[0].boxes.xyxy.tolist(),\"classes\":results[0].boxes.cls.tolist()}\n",
        "        return {\"result\": results_json}\n",
        "\n",
        "\n",
        "ngrok_tunnel = ngrok.connect(8000)\n",
        "print('Public URL:', ngrok_tunnel.public_url)\n",
        "nest_asyncio.apply()\n",
        "app.run(host=\"0.0.0.0\", port=8000)"
      ],
      "metadata": {
        "id": "dfb0echLfuvj"
      },
      "execution_count": null,
      "outputs": []
    },
    {
      "cell_type": "code",
      "source": [],
      "metadata": {
        "id": "vO2YxxR2nQpR"
      },
      "execution_count": null,
      "outputs": []
    }
  ]
}